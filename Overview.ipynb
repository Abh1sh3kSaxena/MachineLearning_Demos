{
 "cells": [
  {
   "cell_type": "code",
   "execution_count": 18,
   "metadata": {
    "_cell_guid": "b1076dfc-b9ad-4769-8c92-a6c4dae69d19",
    "_uuid": "8f2839f25d086af736a60e9eeb907d3b93b6e0e5",
    "execution": {
     "iopub.execute_input": "2024-12-26T03:03:14.591078Z",
     "iopub.status.busy": "2024-12-26T03:03:14.590786Z",
     "iopub.status.idle": "2024-12-26T03:03:15.008131Z",
     "shell.execute_reply": "2024-12-26T03:03:15.006989Z",
     "shell.execute_reply.started": "2024-12-26T03:03:14.591032Z"
    },
    "trusted": true
   },
   "outputs": [],
   "source": [
    "import numpy as np # linear algebra\n",
    "import pandas as pd # data processing, CSV file I/O (e.g. pd.read_csv)\n"
   ]
  },
  {
   "cell_type": "code",
   "execution_count": 19,
   "metadata": {
    "execution": {
     "iopub.execute_input": "2024-12-26T03:03:15.009833Z",
     "iopub.status.busy": "2024-12-26T03:03:15.009379Z",
     "iopub.status.idle": "2024-12-26T03:03:15.106887Z",
     "shell.execute_reply": "2024-12-26T03:03:15.105813Z",
     "shell.execute_reply.started": "2024-12-26T03:03:15.009804Z"
    },
    "trusted": true
   },
   "outputs": [
    {
     "data": {
      "text/html": [
       "<div>\n",
       "<style scoped>\n",
       "    .dataframe tbody tr th:only-of-type {\n",
       "        vertical-align: middle;\n",
       "    }\n",
       "\n",
       "    .dataframe tbody tr th {\n",
       "        vertical-align: top;\n",
       "    }\n",
       "\n",
       "    .dataframe thead th {\n",
       "        text-align: right;\n",
       "    }\n",
       "</style>\n",
       "<table border=\"1\" class=\"dataframe\">\n",
       "  <thead>\n",
       "    <tr style=\"text-align: right;\">\n",
       "      <th></th>\n",
       "      <th>Make</th>\n",
       "      <th>Model</th>\n",
       "      <th>Year</th>\n",
       "      <th>Engine Fuel Type</th>\n",
       "      <th>Engine HP</th>\n",
       "      <th>Engine Cylinders</th>\n",
       "      <th>Transmission Type</th>\n",
       "      <th>Driven_Wheels</th>\n",
       "      <th>Number of Doors</th>\n",
       "      <th>Market Category</th>\n",
       "      <th>Vehicle Size</th>\n",
       "      <th>Vehicle Style</th>\n",
       "      <th>highway MPG</th>\n",
       "      <th>city mpg</th>\n",
       "      <th>Popularity</th>\n",
       "      <th>MSRP</th>\n",
       "    </tr>\n",
       "  </thead>\n",
       "  <tbody>\n",
       "    <tr>\n",
       "      <th>0</th>\n",
       "      <td>BMW</td>\n",
       "      <td>1 Series M</td>\n",
       "      <td>2011</td>\n",
       "      <td>premium unleaded (required)</td>\n",
       "      <td>335.0</td>\n",
       "      <td>6.0</td>\n",
       "      <td>MANUAL</td>\n",
       "      <td>rear wheel drive</td>\n",
       "      <td>2.0</td>\n",
       "      <td>Factory Tuner,Luxury,High-Performance</td>\n",
       "      <td>Compact</td>\n",
       "      <td>Coupe</td>\n",
       "      <td>26</td>\n",
       "      <td>19</td>\n",
       "      <td>3916</td>\n",
       "      <td>46135</td>\n",
       "    </tr>\n",
       "    <tr>\n",
       "      <th>1</th>\n",
       "      <td>BMW</td>\n",
       "      <td>1 Series</td>\n",
       "      <td>2011</td>\n",
       "      <td>premium unleaded (required)</td>\n",
       "      <td>300.0</td>\n",
       "      <td>6.0</td>\n",
       "      <td>MANUAL</td>\n",
       "      <td>rear wheel drive</td>\n",
       "      <td>2.0</td>\n",
       "      <td>Luxury,Performance</td>\n",
       "      <td>Compact</td>\n",
       "      <td>Convertible</td>\n",
       "      <td>28</td>\n",
       "      <td>19</td>\n",
       "      <td>3916</td>\n",
       "      <td>40650</td>\n",
       "    </tr>\n",
       "    <tr>\n",
       "      <th>2</th>\n",
       "      <td>BMW</td>\n",
       "      <td>1 Series</td>\n",
       "      <td>2011</td>\n",
       "      <td>premium unleaded (required)</td>\n",
       "      <td>300.0</td>\n",
       "      <td>6.0</td>\n",
       "      <td>MANUAL</td>\n",
       "      <td>rear wheel drive</td>\n",
       "      <td>2.0</td>\n",
       "      <td>Luxury,High-Performance</td>\n",
       "      <td>Compact</td>\n",
       "      <td>Coupe</td>\n",
       "      <td>28</td>\n",
       "      <td>20</td>\n",
       "      <td>3916</td>\n",
       "      <td>36350</td>\n",
       "    </tr>\n",
       "    <tr>\n",
       "      <th>3</th>\n",
       "      <td>BMW</td>\n",
       "      <td>1 Series</td>\n",
       "      <td>2011</td>\n",
       "      <td>premium unleaded (required)</td>\n",
       "      <td>230.0</td>\n",
       "      <td>6.0</td>\n",
       "      <td>MANUAL</td>\n",
       "      <td>rear wheel drive</td>\n",
       "      <td>2.0</td>\n",
       "      <td>Luxury,Performance</td>\n",
       "      <td>Compact</td>\n",
       "      <td>Coupe</td>\n",
       "      <td>28</td>\n",
       "      <td>18</td>\n",
       "      <td>3916</td>\n",
       "      <td>29450</td>\n",
       "    </tr>\n",
       "    <tr>\n",
       "      <th>4</th>\n",
       "      <td>BMW</td>\n",
       "      <td>1 Series</td>\n",
       "      <td>2011</td>\n",
       "      <td>premium unleaded (required)</td>\n",
       "      <td>230.0</td>\n",
       "      <td>6.0</td>\n",
       "      <td>MANUAL</td>\n",
       "      <td>rear wheel drive</td>\n",
       "      <td>2.0</td>\n",
       "      <td>Luxury</td>\n",
       "      <td>Compact</td>\n",
       "      <td>Convertible</td>\n",
       "      <td>28</td>\n",
       "      <td>18</td>\n",
       "      <td>3916</td>\n",
       "      <td>34500</td>\n",
       "    </tr>\n",
       "  </tbody>\n",
       "</table>\n",
       "</div>"
      ],
      "text/plain": [
       "  Make       Model  Year             Engine Fuel Type  Engine HP  \\\n",
       "0  BMW  1 Series M  2011  premium unleaded (required)      335.0   \n",
       "1  BMW    1 Series  2011  premium unleaded (required)      300.0   \n",
       "2  BMW    1 Series  2011  premium unleaded (required)      300.0   \n",
       "3  BMW    1 Series  2011  premium unleaded (required)      230.0   \n",
       "4  BMW    1 Series  2011  premium unleaded (required)      230.0   \n",
       "\n",
       "   Engine Cylinders Transmission Type     Driven_Wheels  Number of Doors  \\\n",
       "0               6.0            MANUAL  rear wheel drive              2.0   \n",
       "1               6.0            MANUAL  rear wheel drive              2.0   \n",
       "2               6.0            MANUAL  rear wheel drive              2.0   \n",
       "3               6.0            MANUAL  rear wheel drive              2.0   \n",
       "4               6.0            MANUAL  rear wheel drive              2.0   \n",
       "\n",
       "                         Market Category Vehicle Size Vehicle Style  \\\n",
       "0  Factory Tuner,Luxury,High-Performance      Compact         Coupe   \n",
       "1                     Luxury,Performance      Compact   Convertible   \n",
       "2                Luxury,High-Performance      Compact         Coupe   \n",
       "3                     Luxury,Performance      Compact         Coupe   \n",
       "4                                 Luxury      Compact   Convertible   \n",
       "\n",
       "   highway MPG  city mpg  Popularity   MSRP  \n",
       "0           26        19        3916  46135  \n",
       "1           28        19        3916  40650  \n",
       "2           28        20        3916  36350  \n",
       "3           28        18        3916  29450  \n",
       "4           28        18        3916  34500  "
      ]
     },
     "execution_count": 19,
     "metadata": {},
     "output_type": "execute_result"
    }
   ],
   "source": [
    "df = pd.read_csv('data/car_data.csv')\n",
    "df.head()"
   ]
  },
  {
   "cell_type": "code",
   "execution_count": 20,
   "metadata": {
    "execution": {
     "iopub.execute_input": "2024-12-26T03:03:15.109677Z",
     "iopub.status.busy": "2024-12-26T03:03:15.109319Z",
     "iopub.status.idle": "2024-12-26T03:03:15.115678Z",
     "shell.execute_reply": "2024-12-26T03:03:15.114576Z",
     "shell.execute_reply.started": "2024-12-26T03:03:15.109646Z"
    },
    "trusted": true
   },
   "outputs": [
    {
     "name": "stdout",
     "output_type": "stream",
     "text": [
      "the shape of data is  (11914, 16)\n"
     ]
    }
   ],
   "source": [
    "print('the shape of data is ', df.shape)"
   ]
  },
  {
   "cell_type": "code",
   "execution_count": 21,
   "metadata": {
    "execution": {
     "iopub.execute_input": "2024-12-26T03:03:15.117912Z",
     "iopub.status.busy": "2024-12-26T03:03:15.117459Z",
     "iopub.status.idle": "2024-12-26T03:03:15.146607Z",
     "shell.execute_reply": "2024-12-26T03:03:15.145298Z",
     "shell.execute_reply.started": "2024-12-26T03:03:15.117853Z"
    },
    "trusted": true
   },
   "outputs": [
    {
     "name": "stdout",
     "output_type": "stream",
     "text": [
      "The null values in each are  Make                    0\n",
      "Model                   0\n",
      "Year                    0\n",
      "Engine Fuel Type        3\n",
      "Engine HP              69\n",
      "Engine Cylinders       30\n",
      "Transmission Type       0\n",
      "Driven_Wheels           0\n",
      "Number of Doors         6\n",
      "Market Category      3742\n",
      "Vehicle Size            0\n",
      "Vehicle Style           0\n",
      "highway MPG             0\n",
      "city mpg                0\n",
      "Popularity              0\n",
      "MSRP                    0\n",
      "dtype: int64\n"
     ]
    }
   ],
   "source": [
    "print('The null values in each are ',df.isnull().sum())"
   ]
  },
  {
   "cell_type": "markdown",
   "metadata": {},
   "source": [
    "Handle Null Valuesabs\n",
    "\n",
    "Tasks to do:\n",
    "#Handle null values\n",
    "#If a column has more than 40% null values, drop that column\n",
    "#Else fill the null values with mean of that columns"
   ]
  },
  {
   "cell_type": "code",
   "execution_count": 22,
   "metadata": {
    "execution": {
     "iopub.execute_input": "2024-12-26T03:03:15.148131Z",
     "iopub.status.busy": "2024-12-26T03:03:15.147668Z",
     "iopub.status.idle": "2024-12-26T03:03:15.189762Z",
     "shell.execute_reply": "2024-12-26T03:03:15.188605Z",
     "shell.execute_reply.started": "2024-12-26T03:03:15.148092Z"
    },
    "trusted": true
   },
   "outputs": [
    {
     "name": "stdout",
     "output_type": "stream",
     "text": [
      "          Make       Model  Year                Engine Fuel Type  Engine HP  \\\n",
      "0          BMW  1 Series M  2011     premium unleaded (required)      335.0   \n",
      "1          BMW    1 Series  2011     premium unleaded (required)      300.0   \n",
      "2          BMW    1 Series  2011     premium unleaded (required)      300.0   \n",
      "3          BMW    1 Series  2011     premium unleaded (required)      230.0   \n",
      "4          BMW    1 Series  2011     premium unleaded (required)      230.0   \n",
      "...        ...         ...   ...                             ...        ...   \n",
      "11909    Acura         ZDX  2012     premium unleaded (required)      300.0   \n",
      "11910    Acura         ZDX  2012     premium unleaded (required)      300.0   \n",
      "11911    Acura         ZDX  2012     premium unleaded (required)      300.0   \n",
      "11912    Acura         ZDX  2013  premium unleaded (recommended)      300.0   \n",
      "11913  Lincoln      Zephyr  2006                regular unleaded      221.0   \n",
      "\n",
      "       Engine Cylinders Transmission Type      Driven_Wheels  Number of Doors  \\\n",
      "0                   6.0            MANUAL   rear wheel drive              2.0   \n",
      "1                   6.0            MANUAL   rear wheel drive              2.0   \n",
      "2                   6.0            MANUAL   rear wheel drive              2.0   \n",
      "3                   6.0            MANUAL   rear wheel drive              2.0   \n",
      "4                   6.0            MANUAL   rear wheel drive              2.0   \n",
      "...                 ...               ...                ...              ...   \n",
      "11909               6.0         AUTOMATIC    all wheel drive              4.0   \n",
      "11910               6.0         AUTOMATIC    all wheel drive              4.0   \n",
      "11911               6.0         AUTOMATIC    all wheel drive              4.0   \n",
      "11912               6.0         AUTOMATIC    all wheel drive              4.0   \n",
      "11913               6.0         AUTOMATIC  front wheel drive              4.0   \n",
      "\n",
      "                             Market Category Vehicle Size  Vehicle Style  \\\n",
      "0      Factory Tuner,Luxury,High-Performance      Compact          Coupe   \n",
      "1                         Luxury,Performance      Compact    Convertible   \n",
      "2                    Luxury,High-Performance      Compact          Coupe   \n",
      "3                         Luxury,Performance      Compact          Coupe   \n",
      "4                                     Luxury      Compact    Convertible   \n",
      "...                                      ...          ...            ...   \n",
      "11909             Crossover,Hatchback,Luxury      Midsize  4dr Hatchback   \n",
      "11910             Crossover,Hatchback,Luxury      Midsize  4dr Hatchback   \n",
      "11911             Crossover,Hatchback,Luxury      Midsize  4dr Hatchback   \n",
      "11912             Crossover,Hatchback,Luxury      Midsize  4dr Hatchback   \n",
      "11913                                 Luxury      Midsize          Sedan   \n",
      "\n",
      "       highway MPG  city mpg  Popularity   MSRP  \n",
      "0               26        19        3916  46135  \n",
      "1               28        19        3916  40650  \n",
      "2               28        20        3916  36350  \n",
      "3               28        18        3916  29450  \n",
      "4               28        18        3916  34500  \n",
      "...            ...       ...         ...    ...  \n",
      "11909           23        16         204  46120  \n",
      "11910           23        16         204  56670  \n",
      "11911           23        16         204  50620  \n",
      "11912           23        16         204  50920  \n",
      "11913           26        17          61  28995  \n",
      "\n",
      "[11914 rows x 16 columns]\n"
     ]
    }
   ],
   "source": [
    "for column in df.columns:\n",
    "    if df[column].isnull().sum() > (0.40 * len(df)):\n",
    "        df.drop(labels=column, axis=1, inplace=True)\n",
    "    elif df[column].isnull().sum():\n",
    "        if df[column].dtype in ['float64', 'int64']:\n",
    "            df[column].replace(np.nan, df[column].mean(), inplace=True)\n",
    "        else:\n",
    "            # Handle non-numeric columns, e.g., replace NaN with a placeholder or the most frequent value\n",
    "            df[column].replace(np.nan, 'placeholder', inplace=True)\n",
    "\n",
    "print(df)\n"
   ]
  },
  {
   "cell_type": "markdown",
   "metadata": {},
   "source": [
    "Convert the categorial features to numerical values using Label ENcoder from sklearn"
   ]
  },
  {
   "cell_type": "code",
   "execution_count": 23,
   "metadata": {
    "execution": {
     "iopub.execute_input": "2024-12-26T03:09:42.786577Z",
     "iopub.status.busy": "2024-12-26T03:09:42.786180Z",
     "iopub.status.idle": "2024-12-26T03:09:43.349715Z",
     "shell.execute_reply": "2024-12-26T03:09:43.348577Z",
     "shell.execute_reply.started": "2024-12-26T03:09:42.786544Z"
    },
    "trusted": true
   },
   "outputs": [
    {
     "name": "stdout",
     "output_type": "stream",
     "text": [
      "  Make  Model  Year             Engine Fuel Type  Engine HP  Engine Cylinders  \\\n",
      "0  BMW      1  2011  premium unleaded (required)      335.0               6.0   \n",
      "1  BMW      0  2011  premium unleaded (required)      300.0               6.0   \n",
      "2  BMW      0  2011  premium unleaded (required)      300.0               6.0   \n",
      "3  BMW      0  2011  premium unleaded (required)      230.0               6.0   \n",
      "4  BMW      0  2011  premium unleaded (required)      230.0               6.0   \n",
      "\n",
      "  Transmission Type     Driven_Wheels  Number of Doors  \\\n",
      "0            MANUAL  rear wheel drive              2.0   \n",
      "1            MANUAL  rear wheel drive              2.0   \n",
      "2            MANUAL  rear wheel drive              2.0   \n",
      "3            MANUAL  rear wheel drive              2.0   \n",
      "4            MANUAL  rear wheel drive              2.0   \n",
      "\n",
      "                         Market Category Vehicle Size Vehicle Style  \\\n",
      "0  Factory Tuner,Luxury,High-Performance      Compact         Coupe   \n",
      "1                     Luxury,Performance      Compact   Convertible   \n",
      "2                Luxury,High-Performance      Compact         Coupe   \n",
      "3                     Luxury,Performance      Compact         Coupe   \n",
      "4                                 Luxury      Compact   Convertible   \n",
      "\n",
      "   highway MPG  city mpg  Popularity   MSRP  \n",
      "0           26        19        3916  46135  \n",
      "1           28        19        3916  40650  \n",
      "2           28        20        3916  36350  \n",
      "3           28        18        3916  29450  \n",
      "4           28        18        3916  34500  \n",
      "[  1   0   2   3   4   6   7   8  10   9   5  13  12  15  16  14  17  18\n",
      "  19  20  21  22  23  11  25  24  26  27  28  29  30  31  34  33  36  39\n",
      "  35  37  38  40  41  43  44  42  45  32  48  47  49  50  51  53  52  54\n",
      "  55  46  56  57  58  59  60  61  62  63  64  65  67  66  68  69  70  73\n",
      "  72  71  74  75  76  77  78  79  80  81  83  82  84  85  86  87  95  94\n",
      "  96  97  99 100 101  98 102 103 104 105 106 107 108 109 904 903  88  89\n",
      " 110 112 111 113  90 114 115 116 117 119 118  92  93  91 120 121 123 122\n",
      " 124 125 126 127 128 129 130 132 131 133 135 136 134 137 139 141 140 142\n",
      " 143 144 145 146 147 148 149 150 151 153 152 154 155 138 156 157 160 161\n",
      " 162 163 164 186 185 187 188 190 189 191 193 194 192 195 196 197 198 199\n",
      " 200 201 202 203 205 204 165 206 207 208 209 210 211 212 213 214 216 217\n",
      " 215 158 159 167 168 166 218 169 170 219 220 221 222 225 224 228 227 229\n",
      " 226 231 230 233 232 223 235 234 236 238 237 239 240 242 241 243 171 172\n",
      " 244 245 246 247 248 250 249 173 174 176 179 180 178 177 175 251 252 254\n",
      " 255 256 253 181 182 183 184 262 263 264 265 257 259 258 260 267 266 268\n",
      " 269 271 272 270 261 273 274 275 276 277 905 278 279 280 281 290 289 291\n",
      " 293 292 295 296 297 294 298 299 300 301 302 303 304 305 306 308 309 307\n",
      " 310 311 312 313 314 282 284 283 285 286 316 317 318 315 320 319 321 322\n",
      " 323 324 325 327 326 288 328 329 287 330 333 332 331 334 336 335 338 339\n",
      " 337 340 341 342 350 343 351 352 354 353 355 344 356 357 358 360 361 359\n",
      " 362 363 364 365 345 366 367 368 369 371 370 347 348 349 346 375 372 373\n",
      " 374 376 378 380 381 382 379 377 383 384 386 385 409 410 412 411 413 415\n",
      " 414 387 388 389 391 390 392 393 394 417 418 419 420 416 424 425 426 427\n",
      " 428 421 423 422 395 396 397 398 399 400 401 402 404 403 405 406 407 408\n",
      " 429 430 431 435 434 436 432 433 437 906 438 439 907 908 441 440 450 449\n",
      " 451 453 452 909 454 455 456 457 910 442 444 443 445 447 446 448 458 461\n",
      " 462 463 460 464 465 466 467 459 468 469 485 487 488 486 489 490 491 492\n",
      " 493 495 496 497 494 498 470 471 499 472 473 474 476 477 478 479 475 480\n",
      " 481 500 502 501 482 483 484 504 505 507 508 509 506 511 512 510 514 513\n",
      " 516 515 532 533 535 536 537 538 534 539 541 540 542 543 544 545 546 547\n",
      " 548 503 517 549 550 551 552 554 553 518 519 520 521 523 522 524 555 556\n",
      " 558 557 559 561 560 525 526 528 527 562 564 563 565 567 566 529 530 531\n",
      " 573 574 575 576 577 578 579 568 569 571 572 570 580 581 583 582 584 586\n",
      " 585 588 589 590 591 592 593 594 595 596 598 599 597 600 601 602 603 604\n",
      " 607 606 608 605 609 610 612 611 613 587 614 615 616 617 619 618 620 621\n",
      " 623 622 631 632 625 626 627 628 629 630 624 633 634 635 660 661 662 663\n",
      " 636 637 664 665 666 667 668 669 671 672 670 673 675 674 639 640 638 641\n",
      " 642 643 644 645 676 677 678 679 680 681 682 683 684 646 647 685 687 686\n",
      " 688 689 648 649 650 651 652 653 654 655 656 657 658 659 691 690 693 692\n",
      " 694 695 696 698 697 699 702 701 700 704 703 706 705 707 729 728 730 732\n",
      " 731 734 733 708 709 710 735 736 737 738 739 740 741 742 743 744 745 746\n",
      " 748 749 747 750 751 752 753 754 755 757 758 756 759 760 711 712 713 714\n",
      " 717 716 715 718 761 763 762 764 765 766 768 767 770 769 771 772 773 774\n",
      " 775 719 720 721 722 723 776 777 778 725 724 779 780 781 782 783 784 785\n",
      " 726 786 727 787 788 797 799 800 798 802 801 789 911 803 804 805 806 807\n",
      " 808 809 810 790 791 811 812 814 813 816 815 817 819 818 820 821 822 823\n",
      " 824 825 827 826 828 793 792 795 794 796 829 830 831 832 833 835 834 836\n",
      " 837 839 838 840 842 841 843 845 846 844 847 848 849 850 851 852 853 854\n",
      " 856 855 857 858 859 860 861 862 863 866 865 867 864 868 869 870 871 873\n",
      " 872 875 874 912 913 877 878 879 876 914 880 881 882 883 885 884 887 890\n",
      " 888 886 889 892 891 894 895 896 893 897 899 898 900 901 902]\n"
     ]
    }
   ],
   "source": [
    "# Label encoding\n",
    "from sklearn.preprocessing import LabelEncoder\n",
    "le = LabelEncoder()\n",
    "df['Model'] = le.fit_transform(df['Model'])\n",
    "\n",
    "print(df.head())\n",
    "print(df['Model'].unique())\n"
   ]
  },
  {
   "cell_type": "markdown",
   "metadata": {},
   "source": [
    "##Handle Outliers"
   ]
  },
  {
   "cell_type": "code",
   "execution_count": 24,
   "metadata": {
    "execution": {
     "iopub.execute_input": "2024-12-26T03:04:09.906071Z",
     "iopub.status.busy": "2024-12-26T03:04:09.905745Z",
     "iopub.status.idle": "2024-12-26T03:04:10.301165Z",
     "shell.execute_reply": "2024-12-26T03:04:10.300082Z",
     "shell.execute_reply.started": "2024-12-26T03:04:09.906045Z"
    },
    "trusted": true
   },
   "outputs": [
    {
     "data": {
      "image/png": "[encoded data removed]",
      "text/plain": [
       "<Figure size 720x1080 with 1 Axes>"
      ]
     },
     "metadata": {
      "needs_background": "light"
     },
     "output_type": "display_data"
    }
   ],
   "source": [
    "import matplotlib.pyplot as plt\n",
    "df.boxplot(figsize=(15,10))\n",
    "plt.show()"
   ]
  },
  {
   "cell_type": "code",
   "execution_count": 25,
   "metadata": {
    "execution": {
     "iopub.execute_input": "2024-12-26T03:04:26.432325Z",
     "iopub.status.busy": "2024-12-26T03:04:26.431914Z",
     "iopub.status.idle": "2024-12-26T03:04:27.148650Z",
     "shell.execute_reply": "2024-12-26T03:04:27.147288Z",
     "shell.execute_reply.started": "2024-12-26T03:04:26.432293Z"
    },
    "trusted": true
   },
   "outputs": [
    {
     "data": {
      "image/png": "[encoded data removed]",
      "text/plain": [
       "<Figure size 720x1080 with 1 Axes>"
      ]
     },
     "metadata": {
      "needs_background": "light"
     },
     "output_type": "display_data"
    },
    {
     "data": {
      "image/png": "[encoded data removed]",
      "text/plain": [
       "<Figure size 720x1080 with 1 Axes>"
      ]
     },
     "metadata": {
      "needs_background": "light"
     },
     "output_type": "display_data"
    }
   ],
   "source": [
    "# Calculate Q1 (25th percentile) and Q3 (75th percentile)\n",
    "Q1 = df['MSRP'].quantile(0.25)\n",
    "Q3 = df['MSRP'].quantile(0.75)\n",
    "\n",
    "# Calculate IQR\n",
    "IQR = Q3 - Q1\n",
    "\n",
    "# Define the upper and lower bounds for outliers\n",
    "lower_bound = Q1 - 1.5 * IQR\n",
    "upper_bound = Q3 + 1.5 * IQR\n",
    "\n",
    "# Filter the DataFrame to remove outliers\n",
    "df_filtered = df[(df['MSRP'] >= lower_bound) & (df['MSRP'] <= upper_bound)]\n",
    "\n",
    "df.boxplot(figsize=(10,15))\n",
    "plt.show()\n",
    "df_filtered.boxplot(figsize=(10,15))\n",
    "plt.show()"
   ]
  },
  {
   "cell_type": "markdown",
   "metadata": {},
   "source": [
    "Calculate correlation\n",
    "Plot the correlation\n",
    "Compare the correlation"
   ]
  },
  {
   "cell_type": "code",
   "execution_count": 26,
   "metadata": {
    "execution": {
     "iopub.execute_input": "2024-12-26T03:14:24.760099Z",
     "iopub.status.busy": "2024-12-26T03:14:24.759660Z",
     "iopub.status.idle": "2024-12-26T03:14:24.783771Z",
     "shell.execute_reply": "2024-12-26T03:14:24.782733Z",
     "shell.execute_reply.started": "2024-12-26T03:14:24.760062Z"
    },
    "trusted": true
   },
   "outputs": [
    {
     "name": "stdout",
     "output_type": "stream",
     "text": [
      "  Make  Model  Year             Engine Fuel Type  Engine HP  Engine Cylinders  \\\n",
      "0  BMW      1  2011  premium unleaded (required)      335.0               6.0   \n",
      "1  BMW      0  2011  premium unleaded (required)      300.0               6.0   \n",
      "2  BMW      0  2011  premium unleaded (required)      300.0               6.0   \n",
      "3  BMW      0  2011  premium unleaded (required)      230.0               6.0   \n",
      "4  BMW      0  2011  premium unleaded (required)      230.0               6.0   \n",
      "\n",
      "  Transmission Type     Driven_Wheels  Number of Doors  \\\n",
      "0            MANUAL  rear wheel drive              2.0   \n",
      "1            MANUAL  rear wheel drive              2.0   \n",
      "2            MANUAL  rear wheel drive              2.0   \n",
      "3            MANUAL  rear wheel drive              2.0   \n",
      "4            MANUAL  rear wheel drive              2.0   \n",
      "\n",
      "                         Market Category Vehicle Size Vehicle Style  \\\n",
      "0  Factory Tuner,Luxury,High-Performance      Compact         Coupe   \n",
      "1                     Luxury,Performance      Compact   Convertible   \n",
      "2                Luxury,High-Performance      Compact         Coupe   \n",
      "3                     Luxury,Performance      Compact         Coupe   \n",
      "4                                 Luxury      Compact   Convertible   \n",
      "\n",
      "   highway MPG  city mpg  Popularity   MSRP  \n",
      "0           26        19        3916  46135  \n",
      "1           28        19        3916  40650  \n",
      "2           28        20        3916  36350  \n",
      "3           28        18        3916  29450  \n",
      "4           28        18        3916  34500  \n",
      "[  1   0   2   3   4   6   7   8  10   9   5  13  12  15  16  14  17  18\n",
      "  19  20  21  22  11  24  23  25  26  27  28  31  30  33  36  32  34  35\n",
      "  37  29  39  40  41  38  42  43  44  45  46  47  48  49  50  51  53  52\n",
      "  54  55  56  59  58  57  60  61  62  63  64  65  66  68  67  69  70  71\n",
      "  76  75  77  78  80  81  82  79  83  84  85  86  87  88 781 780  90  89\n",
      "  91  92  93  94  96  95  73  74  72  97  98 100  99 101 102 103 104 105\n",
      " 106 107 109 110 108 111 113 115 114 116 117 118 119 120 121 122 123 124\n",
      " 125 127 126 128 112 129 130 133 134 135 136 157 156 158 159 160 162 163\n",
      " 161 164 165 166 167 168 169 170 171 173 172 137 174 175 176 177 178 179\n",
      " 180 181 182 184 185 183 131 132 139 138 186 140 141 187 188 189 190 191\n",
      " 193 192 195 194 196 197 199 198 200 142 143 201 202 203 204 205 207 206\n",
      " 144 145 147 150 151 149 148 146 208 209 211 212 213 210 152 153 154 155\n",
      " 215 216 217 219 218 220 222 223 221 214 224 225 226 227 228 782 229 230\n",
      " 231 232 241 240 242 244 243 246 247 248 245 249 250 251 252 253 254 255\n",
      " 256 257 259 260 258 261 262 263 264 233 235 234 236 237 266 267 265 269\n",
      " 268 270 271 272 273 274 239 275 276 238 277 280 279 278 281 283 282 285\n",
      " 286 284 287 294 295 296 298 297 299 288 300 301 303 304 302 305 306 307\n",
      " 308 289 309 310 311 312 314 313 291 292 293 290 315 316 317 318 320 322\n",
      " 323 324 321 319 325 326 328 327 348 350 349 351 329 330 331 333 332 334\n",
      " 335 336 353 354 355 356 352 357 358 359 360 361 337 338 339 340 341 342\n",
      " 343 344 345 346 347 362 363 364 368 367 369 365 366 783 370 371 784 785\n",
      " 373 372 382 381 383 385 384 786 386 387 388 389 787 374 376 375 377 379\n",
      " 378 380 390 393 394 395 392 396 397 398 399 391 400 401 414 416 417 415\n",
      " 418 419 420 422 423 424 421 425 402 426 403 404 405 407 408 409 406 410\n",
      " 411 427 429 428 412 413 431 432 434 435 436 433 438 437 439 454 455 457\n",
      " 458 459 460 456 461 463 462 464 465 466 467 468 469 430 440 470 471 472\n",
      " 473 475 474 441 442 443 444 446 445 447 476 477 479 478 480 482 481 448\n",
      " 450 449 484 483 486 485 451 452 453 491 492 493 494 495 496 497 487 489\n",
      " 490 488 498 499 501 500 502 504 503 506 507 508 509 510 511 512 513 514\n",
      " 515 516 517 520 519 521 518 522 523 525 524 526 505 527 528 529 530 532\n",
      " 531 533 534 536 535 544 538 539 540 541 542 543 537 545 546 569 570 571\n",
      " 572 547 548 573 574 575 576 577 578 579 580 581 550 551 549 552 553 554\n",
      " 555 556 582 583 584 585 586 587 588 589 557 558 590 592 591 593 594 559\n",
      " 560 561 562 563 564 565 566 567 568 596 595 598 597 599 600 602 601 603\n",
      " 606 605 604 607 608 609 624 623 625 627 626 629 628 610 611 612 630 631\n",
      " 632 633 634 635 636 637 638 639 640 641 643 644 642 645 646 647 648 649\n",
      " 651 652 650 653 654 613 614 615 655 657 656 658 659 660 662 661 664 663\n",
      " 665 666 667 668 616 617 618 619 669 670 671 620 672 673 674 675 676 621\n",
      " 677 622 678 679 688 690 691 689 693 692 680 788 694 695 696 697 698 699\n",
      " 700 701 681 682 702 703 705 704 707 706 708 710 709 711 712 713 714 715\n",
      " 716 718 717 719 684 683 686 685 687 720 721 722 723 724 725 727 726 728\n",
      " 729 730 732 733 731 734 735 736 737 738 739 740 742 741 743 744 745 746\n",
      " 749 748 747 750 751 752 753 754 755 789 790 757 758 759 756 791 760 761\n",
      " 762 763 765 768 766 764 767 770 769 772 773 774 771 775 777 776 778 779]\n"
     ]
    }
   ],
   "source": [
    "# Label encoding\n",
    "from sklearn.preprocessing import LabelEncoder\n",
    "le = LabelEncoder()\n",
    "df_filtered['Model'] = le.fit_transform(df_filtered['Model'])\n",
    "\n",
    "print(df_filtered.head())\n",
    "print(df_filtered['Model'].unique())\n"
   ]
  },
  {
   "cell_type": "code",
   "execution_count": 27,
   "metadata": {
    "execution": {
     "iopub.execute_input": "2024-12-26T03:15:06.825175Z",
     "iopub.status.busy": "2024-12-26T03:15:06.824749Z",
     "iopub.status.idle": "2024-12-26T03:15:07.559335Z",
     "shell.execute_reply": "2024-12-26T03:15:07.558303Z",
     "shell.execute_reply.started": "2024-12-26T03:15:06.825143Z"
    },
    "trusted": true
   },
   "outputs": [
    {
     "name": "stdout",
     "output_type": "stream",
     "text": [
      "MSRP                1.000000\n",
      "Model               0.047333\n",
      "Year                0.696262\n",
      "Engine HP           0.732803\n",
      "Engine Cylinders    0.285623\n",
      "Name: MSRP, dtype: float64\n"
     ]
    },
    {
     "data": {
      "text/plain": [
       "<AxesSubplot:>"
      ]
     },
     "execution_count": 27,
     "metadata": {},
     "output_type": "execute_result"
    },
    {
     "data": {
      "image/png": "[encoded data removed]",
      "text/plain": [
       "<Figure size 432x288 with 2 Axes>"
      ]
     },
     "metadata": {
      "needs_background": "light"
     },
     "output_type": "display_data"
    }
   ],
   "source": [
    "correlation_matrix = df_filtered[['MSRP', 'Model', 'Year', 'Engine HP', 'Engine Cylinders']].corr()\n",
    "msrp_correlation = correlation_matrix['MSRP']\n",
    "\n",
    "print(msrp_correlation)\n",
    "\n",
    "import seaborn as sns\n",
    "\n",
    "sns.heatmap(correlation_matrix,annot = True)"
   ]
  },
  {
   "cell_type": "code",
   "execution_count": 28,
   "metadata": {
    "execution": {
     "iopub.execute_input": "2024-12-26T03:15:43.452264Z",
     "iopub.status.busy": "2024-12-26T03:15:43.451784Z",
     "iopub.status.idle": "2024-12-26T03:15:43.594720Z",
     "shell.execute_reply": "2024-12-26T03:15:43.593671Z",
     "shell.execute_reply.started": "2024-12-26T03:15:43.452235Z"
    },
    "trusted": true
   },
   "outputs": [
    {
     "name": "stdout",
     "output_type": "stream",
     "text": [
      "(8734, 4)\n",
      "(2184, 4)\n",
      "(8734,)\n",
      "(2184,)\n"
     ]
    }
   ],
   "source": [
    "df_filtered = df_filtered[[ 'Model', 'Year', 'Engine HP', 'Engine Cylinders','MSRP']]\n",
    "from sklearn.model_selection import train_test_split\n",
    "X= df_filtered.iloc[:,:-1]\n",
    "y= df_filtered.iloc[:,-1]\n",
    "X_train,X_test,y_train,y_test=train_test_split(X, y,test_size=0.20,random_state = 7)\n",
    "print(X_train.shape)\n",
    "print(X_test.shape)\n",
    "print(y_train.shape)\n",
    "print(y_test.shape)"
   ]
  },
  {
   "cell_type": "markdown",
   "metadata": {},
   "source": [
    "Perform K-Fold cross validation"
   ]
  },
  {
   "cell_type": "code",
   "execution_count": 29,
   "metadata": {},
   "outputs": [
    {
     "data": {
      "text/html": [
       "<div>\n",
       "<style scoped>\n",
       "    .dataframe tbody tr th:only-of-type {\n",
       "        vertical-align: middle;\n",
       "    }\n",
       "\n",
       "    .dataframe tbody tr th {\n",
       "        vertical-align: top;\n",
       "    }\n",
       "\n",
       "    .dataframe thead th {\n",
       "        text-align: right;\n",
       "    }\n",
       "</style>\n",
       "<table border=\"1\" class=\"dataframe\">\n",
       "  <thead>\n",
       "    <tr style=\"text-align: right;\">\n",
       "      <th></th>\n",
       "      <th>Model</th>\n",
       "      <th>Year</th>\n",
       "      <th>Engine HP</th>\n",
       "      <th>Engine Cylinders</th>\n",
       "      <th>MSRP</th>\n",
       "    </tr>\n",
       "  </thead>\n",
       "  <tbody>\n",
       "    <tr>\n",
       "      <th>0</th>\n",
       "      <td>1</td>\n",
       "      <td>2011</td>\n",
       "      <td>335.0</td>\n",
       "      <td>6.0</td>\n",
       "      <td>46135</td>\n",
       "    </tr>\n",
       "    <tr>\n",
       "      <th>1</th>\n",
       "      <td>0</td>\n",
       "      <td>2011</td>\n",
       "      <td>300.0</td>\n",
       "      <td>6.0</td>\n",
       "      <td>40650</td>\n",
       "    </tr>\n",
       "    <tr>\n",
       "      <th>2</th>\n",
       "      <td>0</td>\n",
       "      <td>2011</td>\n",
       "      <td>300.0</td>\n",
       "      <td>6.0</td>\n",
       "      <td>36350</td>\n",
       "    </tr>\n",
       "    <tr>\n",
       "      <th>3</th>\n",
       "      <td>0</td>\n",
       "      <td>2011</td>\n",
       "      <td>230.0</td>\n",
       "      <td>6.0</td>\n",
       "      <td>29450</td>\n",
       "    </tr>\n",
       "    <tr>\n",
       "      <th>4</th>\n",
       "      <td>0</td>\n",
       "      <td>2011</td>\n",
       "      <td>230.0</td>\n",
       "      <td>6.0</td>\n",
       "      <td>34500</td>\n",
       "    </tr>\n",
       "  </tbody>\n",
       "</table>\n",
       "</div>"
      ],
      "text/plain": [
       "   Model  Year  Engine HP  Engine Cylinders   MSRP\n",
       "0      1  2011      335.0               6.0  46135\n",
       "1      0  2011      300.0               6.0  40650\n",
       "2      0  2011      300.0               6.0  36350\n",
       "3      0  2011      230.0               6.0  29450\n",
       "4      0  2011      230.0               6.0  34500"
      ]
     },
     "execution_count": 29,
     "metadata": {},
     "output_type": "execute_result"
    }
   ],
   "source": [
    "df_filtered.head()"
   ]
  },
  {
   "cell_type": "code",
   "execution_count": 30,
   "metadata": {},
   "outputs": [],
   "source": [
    "import warnings \n",
    "warnings.filterwarnings(\"ignore\")"
   ]
  },
  {
   "cell_type": "code",
   "execution_count": 32,
   "metadata": {},
   "outputs": [
    {
     "name": "stdout",
     "output_type": "stream",
     "text": [
      "lr : acc: 0.0936060273365498(standard deviation: 0.007908204213258175)\n"
     ]
    }
   ],
   "source": [
    "from sklearn.model_selection import cross_val_score,KFold\n",
    "#machine learning algorithms\n",
    "from sklearn.linear_model import LogisticRegression\n",
    "from sklearn.tree import DecisionTreeClassifier\n",
    "from sklearn.svm import SVC\n",
    "from sklearn.neighbors import KNeighborsClassifier\n",
    "from sklearn.naive_bayes import GaussianNB\n",
    "from sklearn.ensemble import RandomForestClassifier\n",
    "models=[]\n",
    "models.append(('lr',LogisticRegression()))\n",
    "#models.append(('decision tree',DecisionTreeClassifier()))\n",
    "#models.append(('svm',SVC(gamma='auto')))\n",
    "#models.append(('knn',KNeighborsClassifier()))\n",
    "#models.append(('naive bayes',GaussianNB()))\n",
    "#models.append(('Random Forest',RandomForestClassifier()))\n",
    "for name,model in models:\n",
    "    kfold=KFold(n_splits=10,random_state=7,shuffle=True)\n",
    "    cross_val_sc=cross_val_score(model,X,y,scoring='accuracy',cv=kfold)\n",
    "    print('{} : acc: {}(standard deviation: {})'.format(name,cross_val_sc.mean(),cross_val_sc.std()))"
   ]
  },
  {
   "cell_type": "markdown",
   "metadata": {},
   "source": [
    "Train a logic regression model for prediction"
   ]
  },
  {
   "cell_type": "code",
   "execution_count": null,
   "metadata": {},
   "outputs": [],
   "source": [
    "model= LogisticRegression()\n",
    "model.fit(X_train,y_train)\n",
    "y_pred=model.predict(X_test)"
   ]
  },
  {
   "cell_type": "markdown",
   "metadata": {},
   "source": [
    "Evaluate the Model"
   ]
  },
  {
   "cell_type": "code",
   "execution_count": null,
   "metadata": {},
   "outputs": [],
   "source": [
    "from sklearn.metrics import confusion_matrix,classification_report\n",
    "print(confusion_matrix(y_test,y_pred))\n",
    "print(classification_report(y_test,y_pred))"
   ]
  }
 ],
 "metadata": {
  "kaggle": {
   "accelerator": "none",
   "dataSources": [
    {
     "datasetId": 575,
     "sourceId": 1100,
     "sourceType": "datasetVersion"
    }
   ],
   "dockerImageVersionId": 30822,
   "isGpuEnabled": false,
   "isInternetEnabled": false,
   "language": "python",
   "sourceType": "notebook"
  },
  "kernelspec": {
   "display_name": "Python 3",
   "language": "python",
   "name": "python3"
  },
  "language_info": {
   "codemirror_mode": {
    "name": "ipython",
    "version": 3
   },
   "file_extension": ".py",
   "mimetype": "text/x-python",
   "name": "python",
   "nbconvert_exporter": "python",
   "pygments_lexer": "ipython3",
   "version": "3.9.1"
  }
 },
 "nbformat": 4,
 "nbformat_minor": 4
}
